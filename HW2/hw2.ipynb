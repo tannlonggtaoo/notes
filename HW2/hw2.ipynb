{
 "cells": [
  {
   "cell_type": "markdown",
   "metadata": {},
   "source": [
    "Problem 1"
   ]
  },
  {
   "cell_type": "markdown",
   "metadata": {},
   "source": [
    "1.1a\n",
    "\n",
    "$\\sum_{(i,j)\\in E}||x_i-x_j||^2$\n",
    "\n",
    "$=\n",
    "0.5\\sum_{i}\\sum_j A_{ij}(x_i-x_j)^2\n",
    "$\n",
    "\n",
    "$=\n",
    "0.5\\sum_{i}\\sum_j A_{ij}x_i^2 + 0.5\\sum_{i}\\sum_j A_{ij}x_j^2 - \\sum_{i}\\sum_j A_{ij}x_ix_j\n",
    "$"
   ]
  },
  {
   "cell_type": "markdown",
   "metadata": {},
   "source": [
    "$x^TAx=\n",
    "\\sum_i\\sum_j A_ij x_i x_j\n",
    "$"
   ]
  },
  {
   "cell_type": "markdown",
   "metadata": {},
   "source": [
    "$x^TDx=\\sum_i deg(i)x_i^2$\n",
    "\n",
    "$\n",
    "deg(i) = \\sum_j A_{ij} = \\sum_j A_{ji}\n",
    "$\n",
    "(Because $A$ is symmetric.)"
   ]
  },
  {
   "cell_type": "markdown",
   "metadata": {},
   "source": [
    "So $\\sum_{(i,j)\\in E}||x_i-x_j||^2=0.5\\sum_i deg(i)x_i^2+0.5\\sum_j deg(j)x_j^2 - x^TAx$\n",
    "\n",
    "$=x^TDx-x^TAx=x^TLx$"
   ]
  },
  {
   "cell_type": "markdown",
   "metadata": {},
   "source": [
    "1.1.b\n",
    "\n",
    "Since D and A are symm, then L is also symm.\n",
    "\n",
    "$x^TLx=\\sum_{(i,j)\\in E}||x_i-x_j||^2\\ge 0$, so is positive semi-definite."
   ]
  },
  {
   "cell_type": "markdown",
   "metadata": {},
   "source": [
    "1.1.c\n",
    "\n",
    "$\\sum_{(i,j)\\in E}||p_i-p_j||^2=\\sum_{(i,j)\\in E}||x_i-x_j||^2+\\sum_{(i,j)\\in E}||y_i-y_j||^2+\\sum_{(i,j)\\in E}||z_i-z_j||^2=x^TLx+y^TLy+z^TLz$"
   ]
  },
  {
   "cell_type": "markdown",
   "metadata": {},
   "source": [
    "Problem 2"
   ]
  },
  {
   "cell_type": "markdown",
   "metadata": {},
   "source": [
    "2.a\n",
    "\n",
    "$D^{-1}L=D^{-1}(D-A)=I-D^{-1}A$\n",
    "\n",
    "The sum of row i is:\n",
    "\n",
    "$1-\\sum_j A_{ij}/deg(i)=0$\n",
    "\n",
    "**The problem is wrong, the sum of each row is actually 0**\n",
    "\n",
    "(see https://en.wikipedia.org/wiki/Laplacian_matrix)"
   ]
  },
  {
   "cell_type": "markdown",
   "metadata": {},
   "source": [
    "2.b\n",
    "\n",
    "$\n",
    "L_{norm}P=(I-D^{-1}A)P=P-D^{-1}AP\n",
    "$"
   ]
  },
  {
   "cell_type": "markdown",
   "metadata": {},
   "source": [
    "$\n",
    "[L_{norm}P]_i=e_i^TL_{norm}P=e_i^TP-e_i^TD^{-1}AP\n",
    "$\n",
    "\n",
    "$=\n",
    "p_i-\\frac{1}{deg(i)}e^T_iAP\n",
    "$\n",
    "\n",
    "$=\n",
    "p_i-\\frac{1}{|N(p_i)|}\\sum_{j:p_j\\in N(p_i)}p_j=\\Delta p_i\n",
    "$"
   ]
  }
 ],
 "metadata": {
  "kernelspec": {
   "display_name": "Python 3.8.12 ('env_for_torch_open3d')",
   "language": "python",
   "name": "python3"
  },
  "language_info": {
   "name": "python",
   "version": "3.8.12"
  },
  "orig_nbformat": 4,
  "vscode": {
   "interpreter": {
    "hash": "bba6f57773676c374d55b47d0340819d56ef7d136b7a36f302ab8dd2177b3286"
   }
  }
 },
 "nbformat": 4,
 "nbformat_minor": 2
}
